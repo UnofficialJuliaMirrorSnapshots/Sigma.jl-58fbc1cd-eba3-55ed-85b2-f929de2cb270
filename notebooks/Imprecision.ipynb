{
 "metadata": {
  "language": "Julia",
  "name": "",
  "signature": "sha256:828ab31b006b1df18eb73f3835cebadb04f9dd97bd388f85e71b78e1d00a0db6"
 },
 "nbformat": 3,
 "nbformat_minor": 0,
 "worksheets": [
  {
   "cells": [
    {
     "cell_type": "code",
     "collapsed": false,
     "input": [
      "using Sigma\n",
      "sigma.loadvis()"
     ],
     "language": "python",
     "metadata": {},
     "outputs": []
    },
    {
     "cell_type": "markdown",
     "metadata": {},
     "source": [
      "# Imprecision\n",
      "\n",
      "In Sigma, random variables are functions; to answer inference queries we compute preimages of sets under these functions. Computing preimages directly, i.e. running the function backwards is difficult; we instead compute images of sets.  That is, given a function $f:A \\to B$, we compute $f^\\rightarrow(A') = \\{f(a) : a \\in A'\\}$.\n",
      "\n",
      "Unfortunately even this image function is difficult to find, and the best we can do is *over-approximate it*.  That is, we define an $f^\\sharp$ which approximates $f^\\rightarrow$.  Imprecision occurs when $f^\\sharp$ deviates from $f^\\rightarrow$.\n",
      "\n",
      "## Sources of imprecision\n",
      "\n",
      "There are numerous causes of imprecision currently in Sigma.\n",
      "\n",
      "__Merging in Discontinuous Functions__: Currently in Sigma\n",
      "\n",
      "__Treating Dependent Variables Independently__:"
     ]
    },
    {
     "cell_type": "code",
     "collapsed": false,
     "input": [],
     "language": "python",
     "metadata": {},
     "outputs": []
    }
   ],
   "metadata": {}
  }
 ]
}